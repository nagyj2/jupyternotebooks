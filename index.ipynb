{
 "cells": [
  {
   "cell_type": "markdown",
   "id": "29aa1d70-0313-440f-9589-57186fc97c12",
   "metadata": {},
   "source": [
    "# This is the title\n",
    "\n",
    "This is the text, **bold text** and _italic text_. I also have\n",
    "\n",
    "```python\n",
    "# code blocks!\n",
    "class Thing:\n",
    "    def __init__(self):\n",
    "        print('Hello World')\n",
    "```\n",
    "\n",
    "and `inline code`!\n",
    "\n",
    "```mermaid\n",
    "graph LR\n",
    "A ---> B\n",
    "```"
   ]
  },
  {
   "cell_type": "code",
   "execution_count": null,
   "id": "87461f8e-2fb6-476b-914b-34e69af89b7f",
   "metadata": {},
   "outputs": [],
   "source": []
  }
 ],
 "metadata": {
  "kernelspec": {
   "display_name": "Python 3",
   "language": "python",
   "name": "python3"
  },
  "language_info": {
   "codemirror_mode": {
    "name": "ipython",
    "version": 3
   },
   "file_extension": ".py",
   "mimetype": "text/x-python",
   "name": "python",
   "nbconvert_exporter": "python",
   "pygments_lexer": "ipython3",
   "version": "3.9.6"
  }
 },
 "nbformat": 4,
 "nbformat_minor": 5
}
