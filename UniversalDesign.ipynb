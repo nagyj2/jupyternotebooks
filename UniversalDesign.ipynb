{
 "cells": [
  {
   "cell_type": "markdown",
   "metadata": {
    "slideshow": {
     "slide_type": "slide"
    },
    "tags": []
   },
   "source": [
    "<img style=\"width:16em;height:auto;float:right\" src=\"InnovationsInEducationConferenceLogo.png\"></img>\n",
    "# Universal Design of Interactive Notebooks on Programming\n",
    "<br><br><br>\n",
    "<img style=\"width:8em;height:auto;float:left;border-right:4em solid white\" src=\"McMasterEngineeringComputingAndSoftwareLogo.png\"></img>\n",
    "### Bin Guo, Jason Nagy, <u>Emil Sekerinski</u>\n",
    "### [guob15@mcmaster.ca](mailto:guob15@mcmaster.ca), [nagyj2@mcmaster.ca](mailto:nagyj2@mcmaster.ca), [emil@mcmaster.ca](mailto:emil@mcmaster.ca)\n",
    "### December 2021\n",
    "<br><br><br>\n",
    "<img style=\"width:16em;height:auto;float:right\" src=\"eCampusOntarioLogo.png\"></img>\n",
    "Supported by VLS Digital Content funding of eCampusOntario\n",
    "<br><br><br><br><br><br><br><br><br><br><br><br><br><br><br><br>"
   ]
  },
  {
   "cell_type": "markdown",
   "metadata": {
    "slideshow": {
     "slide_type": "slide"
    },
    "tags": []
   },
   "source": [
    "### This Presentation is a Jupyter Notebook\n",
    "\n",
    "Jupyter notebooks were developed for *reproducible research*.  \n",
    "[Kluyver et al. 2016. Jupyter Notebooks–a publishing format for reproducible computational workflows]  \n",
    "\n",
    "According to a 2021 worldwide survey out of 82,000 software developers 12.5% use Jupyter. Popular in Data Science.\n",
    "[https://insights.stackoverflow.com/survey/2021]\n",
    "\n",
    "Jupyter notebook combine prose, executable code, and output of execution, also graphical, e.g. from the course notes of COMP SCI 4TB3 Syntax-based Tools and Compilers:"
   ]
  },
  {
   "cell_type": "markdown",
   "metadata": {},
   "source": [
    "><img alt=\"top down lines:\n",
    "           S to 𝒩0 and 𝒱\n",
    "           𝒩0 to P\n",
    "           P to Kevin\n",
    "           𝒱 to V and 𝒩1\n",
    "           V to eats\n",
    "           𝒩1 to D and N\n",
    "           D to a\n",
    "           N to banana\" style=\"width:16em;float:right;border-left:10px\" src=\"KevinEatsABananaTree.svg\"/>\n",
    ">\n",
    "> A *grammar* not only determines unambiguously which sequences of words are sentences and which not but also provides sentences with a *structure*. The structure is instrumental in recognizing the *semantic* of a sentence, which is our ultimate goal.\n",
    ">\n",
    ">The theory of formal languages originates in linguistics. A basic rule of English is that sentences (`S`) consists of a noun phrase (`𝒩`) followed by verb phrase (`𝒱`). A noun phrase is either a proper name (`P`) or a determiner (`D`) followed by a noun (`N`). A verb phrase is either a verb (`V`) or a verb followed by a noun phrase. Determiners are `a` and `the`. The hierarchical composition of an English sentence by a *parse tree* is given to the right; below are the corresponding rules. Grammars of this form are called *generative* and the rules are called *productions*, as they determine how all sentences of a language are generated."
   ]
  },
  {
   "cell_type": "code",
   "execution_count": 1,
   "metadata": {},
   "outputs": [],
   "source": [
    "g = ('S→𝒩 𝒱', '𝒩→P', '𝒩→D N', '𝒱→V', '𝒱→V 𝒩', 'P→Kevin', 'P→Dave', 'D→a', 'D→the',\n",
    "     'N→banana', 'N→apple', 'V→eats', 'V→runs')"
   ]
  },
  {
   "cell_type": "code",
   "execution_count": 2,
   "metadata": {},
   "outputs": [],
   "source": [
    "def parse(g: \"grammar\", x: \"input\"): # Earley's parser\n",
    "    n = len(x); x = '^' + x + '$'; S, π = g[0][0], g[0][2:]\n",
    "    s = [{(S, '', π, 0)}] + [set() for _ in range(n)]\n",
    "    for i in range(n + 1):\n",
    "        v = set()\n",
    "        while v != s[i]:\n",
    "            e = (s[i] - v).pop(); v.add(e)\n",
    "            A, σ, τ, j = e\n",
    "            if len(τ) > 0 and τ[0] == x[i + 1]: # match, a == τ[0]\n",
    "                s[i + 1].add((A, σ + τ[0], τ[1:], j))\n",
    "            elif len(τ) > 0: # predict, B == ω[0]\n",
    "                s[i].update((r[0], '', r[2:], i) for r in g if r[0] == τ[0])\n",
    "            else: # complete, len(τ) == 0\n",
    "                s[i].update((B, μ + ν[0], ν[1:], k) for (B, μ, ν, k) in s[j] \\\n",
    "                            if len(ν) > 0 and ν[0] == A)\n",
    "    return (S, π, '', 0) in s[n]"
   ]
  },
  {
   "cell_type": "code",
   "execution_count": 4,
   "metadata": {},
   "outputs": [
    {
     "data": {
      "text/plain": [
       "True"
      ]
     },
     "execution_count": 4,
     "metadata": {},
     "output_type": "execute_result"
    }
   ],
   "source": [
    "parse(g, 'Kevin eats a banana')"
   ]
  },
  {
   "cell_type": "markdown",
   "metadata": {
    "slideshow": {
     "slide_type": "slide"
    },
    "tags": []
   },
   "source": [
    "Jupyter supports *interactive literate programming*:\n",
    "\n",
    "> Let us change our traditional attitude to the construction of programs: Instead of imagining that our main task is to instruct a computer what to do, let us concentrate rather on explaining to human beings what we want a computer to do [Knuth, 1984. Literate Programming]\n",
    "\n",
    "Notebooks are used for course notes (slide mode) and assignments, e.g. SFWR ENG 3BB4 Concurrent System Design, COMP SCI 4TB3 Syntax-based Tools and Compilers.\n",
    "\n",
    "Jupyter has been used wordwide for undergraduate and graduate courses; at McMaster for Engineering 1, in Computing and Software, Math, ...\n",
    "\n",
    "JupyterHub with nbgrader allows semi-automatic grading of (programming) assignments.\n",
    "\n",
    "Student feedback highlights integration of multimedia and that one can work at one's own pace."
   ]
  },
  {
   "cell_type": "markdown",
   "metadata": {
    "slideshow": {
     "slide_type": "slide"
    },
    "tags": []
   },
   "source": [
    "### On Universal Design\n",
    "\n",
    "Universal Design is a “way of thinking” to ensure that all features can be performed by all users regardless of ability.\n",
    "[https://universaldesign.ie/what-is-universal-design/definition-and-overview]\n",
    "\n",
    "The goal is to anticipate, plan around, and accommodate all barriers, such as limited vision or poor motion control with effective and non-stigmatizing methods.\n",
    "[Rose, 2000. Universal Design for Learning]\n",
    "\n",
    "Images in Jupyter notebooks require adding an `alt-text` to make them accessible – see above; *screen readers* then read the `alt-text`:\n",
    "\n",
    "Jupyter syntax: `![alt-text](KevinEatsABananaTree.svg)`  \n",
    "HTML syntax: `<img alt=\"alt-text\" src=\"KevinEatsABananaTree.svg\"/>`"
   ]
  },
  {
   "cell_type": "markdown",
   "metadata": {
    "slideshow": {
     "slide_type": "slide"
    },
    "tags": []
   },
   "source": [
    "#### Contributon 1: From textual description generate *both* the visual diagram *and* the `alt-text`\n",
    "\n",
    "This keeps the diagram and the `alt-text` always synchronized, e.g. a state diagram:\n",
    "\n",
    "```mermaid\n",
    "graph LR\n",
    "    Closed -- open --> Opened;\n",
    "    Opened -- close --> Closed;\n",
    "    Opened -- read --> Opened;\n",
    "    Opened -- write --> Opened;\n",
    "```         \n",
    "\n",
    "`Graphs` can be used for various types of diagrams, e.g. trees:\n",
    "\n",
    "```mermaid\n",
    "graph TD\n",
    "    S --- NP0[\"𝒩\"] & VP[\"𝒱\"];\n",
    "    NP0 --- P;\n",
    "    P ---- Kevin;\n",
    "    VP --- V & NP1[\"𝒩\"];\n",
    "    V ---- eats;\n",
    "    NP1 --- D & N;\n",
    "    D --- a;\n",
    "    N --- banana;\n",
    "\n",
    "classDef default fill:none,stroke:none\n",
    "```\n",
    "\n",
    "Other types of diagrams are also supported, e.g. pie charts and sequence diagrams:\n",
    "\n",
    "```mermaid\n",
    "pie title Canadian Adults\n",
    "    \"with visual impairment\" : 5.7\n",
    "    \"without visual impairment\" : 94.3\n",
    "```\n",
    "\n",
    "```mermaid\n",
    "sequenceDiagram\n",
    "    Alice->>Bob: Bob, you are on mute!;\n",
    "    activate Bob;\n",
    "    Bob-->>Alice: Sorry!;\n",
    "    deactivate Bob;\n",
    "```\n",
    "\n",
    "See [https://mermaid-js.github.io/] for all supported diagram types."
   ]
  },
  {
   "cell_type": "markdown",
   "metadata": {},
   "source": [
    "#### Contribution 2: Menu, floating palette, and keyboard shortcut for math symbol insertion\n",
    "\n",
    "Unicode math symbols, like ∧, ∀, ∈, work better with screen readers than than $\\LaTeX$ versions $\\land$, $\\forall$, $\\in$.\n",
    "\n",
    "Windows, macOS, Linux all have different and sometimes cumbersome ways to insert Unicode symbols.\n",
    "\n",
    "Workaround is to provide a file with all common symbols for copy-and-paste."
   ]
  },
  {
   "cell_type": "markdown",
   "metadata": {},
   "source": [
    "#### Contribution 3: Automatic syntax highlighting for annotated algorithms and equational proofs\n",
    "\n",
    "```algorithm\n",
    "{true}\n",
    "s, k := 0, 0\n",
    "{s = (∑ i ∈ 0 .. k - 1 • a(i)) ∧ 0 ≤ k ≤ N}\n",
    "while k < N do\n",
    "    s, k := s + a(k), k + 1\n",
    "{s = (∑ i ∈ 0 .. N - 1 • a(i))}\n",
    "```\n",
    "\n",
    "```algorithm\n",
    "    x + y = 10 ⇒ (z = 10)[z := x + y]\n",
    "≡        {by substitution}\n",
    "    x + y = 10 ⇒ {x} + y = 10\n",
    "≡        {reflexivity of ⇒}\n",
    "    true\n",
    "```"
   ]
  },
  {
   "cell_type": "markdown",
   "metadata": {},
   "source": [
    "#### Contribution 4: Checklist for Universal Design with Jupyter Notebooks\n",
    "\n",
    "- If links exist to navigate between notebooks, place them at the top and provide a link to the main notebook content.\n",
    "- Use markdown structures for structure elements, not for style.\n",
    "- Use markdown style elements for style and not for structure (e.g. use `## Header`, not `*Header*`).\n",
    "- Use descriptive filenames and links where possible. \n",
    "- Put the purpose of a paragraph within the first sentence.\n",
    "- Avoid images of text.\n",
    "- Provide alt-text for bitmap images like photographs. Decorative images do not need alt-text.\n",
    "- Use mermaid diagrams for all other images.\n",
    "- End all lines in mermaid diagrams with a semicolon. This prevents screen readers from merging consecutive lines.\n",
    "- Avoid use of delimiters in text, such as quotes. Delimiters require the user to interact with their keyboard to continue reading the text through the screen reader. \n",
    "- Use syntax highlighting for visual appeal. Automatic colouring does not add information and is ignored by a screen reader.\n",
    "- Accompany significant uses of colour with text.\n",
    "- Prefer Unicode math symbols over $\\LaTeX$ symbols."
   ]
  },
  {
   "cell_type": "markdown",
   "metadata": {},
   "source": [
    "### Next Steps\n",
    "\n",
    "Try out this notebook for yourself at https://mybinder.org/v2/gh/nagyj2/jupyternotebooks/HEAD\n",
    "\n",
    "Install the JupyterLab extensions from https://gitlab.cas.mcmaster.ca/nagyj2/unicode-snippets-ts\n",
    "\n",
    "Contact the authors with your experience!"
   ]
  }
 ],
 "metadata": {
  "kernelspec": {
   "display_name": "Python 3",
   "language": "python",
   "name": "python3"
  },
  "language_info": {
   "codemirror_mode": {
    "name": "ipython",
    "version": 3
   },
   "file_extension": ".py",
   "mimetype": "text/x-python",
   "name": "python",
   "nbconvert_exporter": "python",
   "pygments_lexer": "ipython3",
   "version": "3.9.4"
  }
 },
 "nbformat": 4,
 "nbformat_minor": 4
}
